{
 "cells": [
  {
   "cell_type": "code",
   "execution_count": 1,
   "metadata": {},
   "outputs": [],
   "source": [
    "import numpy as ny\n",
    "import pandas as ps"
   ]
  },
  {
   "cell_type": "code",
   "execution_count": 2,
   "metadata": {},
   "outputs": [],
   "source": [
    "lr = ps.read_csv(r\"C:\\Users\\vaish\\Downloads\\Salary_Data.csv\")"
   ]
  },
  {
   "cell_type": "code",
   "execution_count": 3,
   "metadata": {},
   "outputs": [
    {
     "data": {
      "text/html": [
       "<div>\n",
       "<style scoped>\n",
       "    .dataframe tbody tr th:only-of-type {\n",
       "        vertical-align: middle;\n",
       "    }\n",
       "\n",
       "    .dataframe tbody tr th {\n",
       "        vertical-align: top;\n",
       "    }\n",
       "\n",
       "    .dataframe thead th {\n",
       "        text-align: right;\n",
       "    }\n",
       "</style>\n",
       "<table border=\"1\" class=\"dataframe\">\n",
       "  <thead>\n",
       "    <tr style=\"text-align: right;\">\n",
       "      <th></th>\n",
       "      <th>YearsExperience</th>\n",
       "      <th>Salary</th>\n",
       "    </tr>\n",
       "  </thead>\n",
       "  <tbody>\n",
       "    <tr>\n",
       "      <th>0</th>\n",
       "      <td>1.1</td>\n",
       "      <td>39343.0</td>\n",
       "    </tr>\n",
       "    <tr>\n",
       "      <th>1</th>\n",
       "      <td>1.3</td>\n",
       "      <td>46205.0</td>\n",
       "    </tr>\n",
       "    <tr>\n",
       "      <th>2</th>\n",
       "      <td>1.5</td>\n",
       "      <td>37731.0</td>\n",
       "    </tr>\n",
       "    <tr>\n",
       "      <th>3</th>\n",
       "      <td>2.0</td>\n",
       "      <td>43525.0</td>\n",
       "    </tr>\n",
       "    <tr>\n",
       "      <th>4</th>\n",
       "      <td>2.2</td>\n",
       "      <td>39891.0</td>\n",
       "    </tr>\n",
       "  </tbody>\n",
       "</table>\n",
       "</div>"
      ],
      "text/plain": [
       "   YearsExperience   Salary\n",
       "0              1.1  39343.0\n",
       "1              1.3  46205.0\n",
       "2              1.5  37731.0\n",
       "3              2.0  43525.0\n",
       "4              2.2  39891.0"
      ]
     },
     "execution_count": 3,
     "metadata": {},
     "output_type": "execute_result"
    }
   ],
   "source": [
    "lr.head()"
   ]
  },
  {
   "cell_type": "code",
   "execution_count": 4,
   "metadata": {},
   "outputs": [
    {
     "data": {
      "text/plain": [
       "YearsExperience    False\n",
       "Salary             False\n",
       "dtype: bool"
      ]
     },
     "execution_count": 4,
     "metadata": {},
     "output_type": "execute_result"
    }
   ],
   "source": [
    "lr.isnull().any()"
   ]
  },
  {
   "cell_type": "code",
   "execution_count": 5,
   "metadata": {},
   "outputs": [],
   "source": [
    "x = lr.iloc[:,0:1].values\n",
    "y = lr.iloc[:,1].values"
   ]
  },
  {
   "cell_type": "code",
   "execution_count": 6,
   "metadata": {},
   "outputs": [
    {
     "data": {
      "image/png": "[encoded data removed]",
      "text/plain": [
       "<Figure size 432x288 with 1 Axes>"
      ]
     },
     "metadata": {
      "needs_background": "light"
     },
     "output_type": "display_data"
    }
   ],
   "source": [
    "import matplotlib.pyplot as plt\n",
    "plt.scatter(x,y)\n",
    "plt.show()"
   ]
  },
  {
   "cell_type": "code",
   "execution_count": 7,
   "metadata": {},
   "outputs": [],
   "source": [
    "from sklearn.model_selection import train_test_split\n",
    "xtn,xts,ytn,yts = train_test_split(x,y,test_size = 0.2,random_state=0)"
   ]
  },
  {
   "cell_type": "code",
   "execution_count": 8,
   "metadata": {},
   "outputs": [],
   "source": [
    "from tensorflow.keras.models import Sequential\n",
    "from tensorflow.keras.layers import Dense"
   ]
  },
  {
   "cell_type": "code",
   "execution_count": 9,
   "metadata": {},
   "outputs": [],
   "source": [
    "ann = Sequential()"
   ]
  },
  {
   "cell_type": "code",
   "execution_count": 10,
   "metadata": {},
   "outputs": [],
   "source": [
    "ann.add(Dense(1,kernel_initializer = 'random_uniform',activation = 'relu'))"
   ]
  },
  {
   "cell_type": "code",
   "execution_count": 11,
   "metadata": {},
   "outputs": [],
   "source": [
    "ann.add(Dense(2,kernel_initializer = 'random_uniform',activation = 'relu'))"
   ]
  },
  {
   "cell_type": "code",
   "execution_count": 12,
   "metadata": {},
   "outputs": [],
   "source": [
    "ann.add(Dense(1,kernel_initializer = 'random_uniform',activation = 'relu'))"
   ]
  },
  {
   "cell_type": "code",
   "execution_count": 13,
   "metadata": {},
   "outputs": [],
   "source": [
    "ann.compile('adam','mean_squared_error',metrics = ['MSE'])"
   ]
  },
  {
   "cell_type": "code",
   "execution_count": 14,
   "metadata": {},
   "outputs": [
    {
     "name": "stdout",
     "output_type": "stream",
     "text": [
      "Epoch 1/100\n",
      "1/1 [==============================] - 1s 1s/step - loss: 6073909248.0000 - MSE: 6073909248.0000\n",
      "Epoch 2/100\n",
      "1/1 [==============================] - 0s 8ms/step - loss: 6073909248.0000 - MSE: 6073909248.0000\n",
      "Epoch 3/100\n",
      "1/1 [==============================] - 0s 8ms/step - loss: 6073909248.0000 - MSE: 6073909248.0000\n",
      "Epoch 4/100\n",
      "1/1 [==============================] - 0s 8ms/step - loss: 6073909248.0000 - MSE: 6073909248.0000\n",
      "Epoch 5/100\n",
      "1/1 [==============================] - 0s 8ms/step - loss: 6073908736.0000 - MSE: 6073908736.0000\n",
      "Epoch 6/100\n",
      "1/1 [==============================] - 0s 8ms/step - loss: 6073907712.0000 - MSE: 6073907712.0000\n",
      "Epoch 7/100\n",
      "1/1 [==============================] - 0s 8ms/step - loss: 6073908736.0000 - MSE: 6073908736.0000\n",
      "Epoch 8/100\n",
      "1/1 [==============================] - 0s 8ms/step - loss: 6073907712.0000 - MSE: 6073907712.0000\n",
      "Epoch 9/100\n",
      "1/1 [==============================] - 0s 8ms/step - loss: 6073907712.0000 - MSE: 6073907712.0000\n",
      "Epoch 10/100\n",
      "1/1 [==============================] - 0s 8ms/step - loss: 6073907712.0000 - MSE: 6073907712.0000\n",
      "Epoch 11/100\n",
      "1/1 [==============================] - 0s 8ms/step - loss: 6073907712.0000 - MSE: 6073907712.0000\n",
      "Epoch 12/100\n",
      "1/1 [==============================] - 0s 8ms/step - loss: 6073907712.0000 - MSE: 6073907712.0000\n",
      "Epoch 13/100\n",
      "1/1 [==============================] - 0s 8ms/step - loss: 6073907712.0000 - MSE: 6073907712.0000\n",
      "Epoch 14/100\n",
      "1/1 [==============================] - 0s 8ms/step - loss: 6073907200.0000 - MSE: 6073907200.0000\n",
      "Epoch 15/100\n",
      "1/1 [==============================] - 0s 8ms/step - loss: 6073907200.0000 - MSE: 6073907200.0000\n",
      "Epoch 16/100\n",
      "1/1 [==============================] - 0s 8ms/step - loss: 6073907200.0000 - MSE: 6073907200.0000\n",
      "Epoch 17/100\n",
      "1/1 [==============================] - 0s 8ms/step - loss: 6073907200.0000 - MSE: 6073907200.0000\n",
      "Epoch 18/100\n",
      "1/1 [==============================] - 0s 8ms/step - loss: 6073907200.0000 - MSE: 6073907200.0000\n",
      "Epoch 19/100\n",
      "1/1 [==============================] - 0s 16ms/step - loss: 6073906688.0000 - MSE: 6073906688.0000\n",
      "Epoch 20/100\n",
      "1/1 [==============================] - 0s 8ms/step - loss: 6073906688.0000 - MSE: 6073906688.0000\n",
      "Epoch 21/100\n",
      "1/1 [==============================] - 0s 8ms/step - loss: 6073906688.0000 - MSE: 6073906688.0000\n",
      "Epoch 22/100\n",
      "1/1 [==============================] - 0s 8ms/step - loss: 6073906688.0000 - MSE: 6073906688.0000\n",
      "Epoch 23/100\n",
      "1/1 [==============================] - 0s 8ms/step - loss: 6073905664.0000 - MSE: 6073905664.0000\n",
      "Epoch 24/100\n",
      "1/1 [==============================] - 0s 16ms/step - loss: 6073905664.0000 - MSE: 6073905664.0000\n",
      "Epoch 25/100\n",
      "1/1 [==============================] - 0s 8ms/step - loss: 6073905664.0000 - MSE: 6073905664.0000\n",
      "Epoch 26/100\n",
      "1/1 [==============================] - 0s 8ms/step - loss: 6073905152.0000 - MSE: 6073905152.0000\n",
      "Epoch 27/100\n",
      "1/1 [==============================] - 0s 8ms/step - loss: 6073905152.0000 - MSE: 6073905152.0000\n",
      "Epoch 28/100\n",
      "1/1 [==============================] - 0s 8ms/step - loss: 6073905152.0000 - MSE: 6073905152.0000\n",
      "Epoch 29/100\n",
      "1/1 [==============================] - 0s 0s/step - loss: 6073905152.0000 - MSE: 6073905152.0000\n",
      "Epoch 30/100\n",
      "1/1 [==============================] - 0s 8ms/step - loss: 6073904640.0000 - MSE: 6073904640.0000\n",
      "Epoch 31/100\n",
      "1/1 [==============================] - 0s 8ms/step - loss: 6073905152.0000 - MSE: 6073905152.0000\n",
      "Epoch 32/100\n",
      "1/1 [==============================] - 0s 0s/step - loss: 6073904640.0000 - MSE: 6073904640.0000\n",
      "Epoch 33/100\n",
      "1/1 [==============================] - 0s 0s/step - loss: 6073903616.0000 - MSE: 6073903616.0000\n",
      "Epoch 34/100\n",
      "1/1 [==============================] - 0s 0s/step - loss: 6073903616.0000 - MSE: 6073903616.0000\n",
      "Epoch 35/100\n",
      "1/1 [==============================] - 0s 0s/step - loss: 6073903616.0000 - MSE: 6073903616.0000\n",
      "Epoch 36/100\n",
      "1/1 [==============================] - 0s 8ms/step - loss: 6073903616.0000 - MSE: 6073903616.0000\n",
      "Epoch 37/100\n",
      "1/1 [==============================] - 0s 8ms/step - loss: 6073903616.0000 - MSE: 6073903616.0000\n",
      "Epoch 38/100\n",
      "1/1 [==============================] - 0s 8ms/step - loss: 6073903616.0000 - MSE: 6073903616.0000\n",
      "Epoch 39/100\n",
      "1/1 [==============================] - 0s 0s/step - loss: 6073903104.0000 - MSE: 6073903104.0000\n",
      "Epoch 40/100\n",
      "1/1 [==============================] - 0s 8ms/step - loss: 6073902592.0000 - MSE: 6073902592.0000\n",
      "Epoch 41/100\n",
      "1/1 [==============================] - 0s 8ms/step - loss: 6073902592.0000 - MSE: 6073902592.0000\n",
      "Epoch 42/100\n",
      "1/1 [==============================] - 0s 8ms/step - loss: 6073902592.0000 - MSE: 6073902592.0000\n",
      "Epoch 43/100\n",
      "1/1 [==============================] - 0s 8ms/step - loss: 6073902592.0000 - MSE: 6073902592.0000\n",
      "Epoch 44/100\n",
      "1/1 [==============================] - 0s 8ms/step - loss: 6073902592.0000 - MSE: 6073902592.0000\n",
      "Epoch 45/100\n",
      "1/1 [==============================] - 0s 8ms/step - loss: 6073901568.0000 - MSE: 6073901568.0000\n",
      "Epoch 46/100\n",
      "1/1 [==============================] - 0s 0s/step - loss: 6073901568.0000 - MSE: 6073901568.0000\n",
      "Epoch 47/100\n",
      "1/1 [==============================] - ETA: 0s - loss: 6073901568.0000 - MSE: 6073901568.000 - 0s 8ms/step - loss: 6073901568.0000 - MSE: 6073901568.0000\n",
      "Epoch 48/100\n",
      "1/1 [==============================] - 0s 8ms/step - loss: 6073901056.0000 - MSE: 6073901056.0000\n",
      "Epoch 49/100\n",
      "1/1 [==============================] - 0s 8ms/step - loss: 6073901056.0000 - MSE: 6073901056.0000\n",
      "Epoch 50/100\n",
      "1/1 [==============================] - 0s 16ms/step - loss: 6073901056.0000 - MSE: 6073901056.0000\n",
      "Epoch 51/100\n",
      "1/1 [==============================] - 0s 8ms/step - loss: 6073901056.0000 - MSE: 6073901056.0000\n",
      "Epoch 52/100\n",
      "1/1 [==============================] - 0s 8ms/step - loss: 6073900544.0000 - MSE: 6073900544.0000\n",
      "Epoch 53/100\n",
      "1/1 [==============================] - 0s 8ms/step - loss: 6073900544.0000 - MSE: 6073900544.0000\n",
      "Epoch 54/100\n",
      "1/1 [==============================] - 0s 8ms/step - loss: 6073899520.0000 - MSE: 6073899520.0000\n",
      "Epoch 55/100\n",
      "1/1 [==============================] - 0s 8ms/step - loss: 6073899520.0000 - MSE: 6073899520.0000\n",
      "Epoch 56/100\n",
      "1/1 [==============================] - 0s 8ms/step - loss: 6073899520.0000 - MSE: 6073899520.0000\n",
      "Epoch 57/100\n",
      "1/1 [==============================] - 0s 8ms/step - loss: 6073899520.0000 - MSE: 6073899520.0000\n",
      "Epoch 58/100\n",
      "1/1 [==============================] - 0s 8ms/step - loss: 6073899008.0000 - MSE: 6073899008.0000\n",
      "Epoch 59/100\n",
      "1/1 [==============================] - 0s 8ms/step - loss: 6073899520.0000 - MSE: 6073899520.0000\n",
      "Epoch 60/100\n",
      "1/1 [==============================] - 0s 8ms/step - loss: 6073899008.0000 - MSE: 6073899008.0000\n",
      "Epoch 61/100\n",
      "1/1 [==============================] - 0s 0s/step - loss: 6073898496.0000 - MSE: 6073898496.0000\n",
      "Epoch 62/100\n",
      "1/1 [==============================] - 0s 0s/step - loss: 6073898496.0000 - MSE: 6073898496.0000\n",
      "Epoch 63/100\n",
      "1/1 [==============================] - 0s 8ms/step - loss: 6073898496.0000 - MSE: 6073898496.0000\n",
      "Epoch 64/100\n",
      "1/1 [==============================] - 0s 8ms/step - loss: 6073898496.0000 - MSE: 6073898496.0000\n",
      "Epoch 65/100\n",
      "1/1 [==============================] - 0s 16ms/step - loss: 6073897472.0000 - MSE: 6073897472.0000\n",
      "Epoch 66/100\n",
      "1/1 [==============================] - 0s 8ms/step - loss: 6073896960.0000 - MSE: 6073896960.0000\n",
      "Epoch 67/100\n",
      "1/1 [==============================] - 0s 6ms/step - loss: 6073896960.0000 - MSE: 6073896960.0000\n",
      "Epoch 68/100\n",
      "1/1 [==============================] - 0s 8ms/step - loss: 6073896960.0000 - MSE: 6073896960.0000\n",
      "Epoch 69/100\n",
      "1/1 [==============================] - 0s 8ms/step - loss: 6073896960.0000 - MSE: 6073896960.0000\n",
      "Epoch 70/100\n",
      "1/1 [==============================] - 0s 8ms/step - loss: 6073896448.0000 - MSE: 6073896448.0000\n",
      "Epoch 71/100\n",
      "1/1 [==============================] - 0s 8ms/step - loss: 6073895424.0000 - MSE: 6073895424.0000\n",
      "Epoch 72/100\n",
      "1/1 [==============================] - 0s 8ms/step - loss: 6073895424.0000 - MSE: 6073895424.0000\n",
      "Epoch 73/100\n",
      "1/1 [==============================] - 0s 8ms/step - loss: 6073895424.0000 - MSE: 6073895424.0000\n",
      "Epoch 74/100\n"
     ]
    },
    {
     "name": "stdout",
     "output_type": "stream",
     "text": [
      "1/1 [==============================] - 0s 16ms/step - loss: 6073895424.0000 - MSE: 6073895424.0000\n",
      "Epoch 75/100\n",
      "1/1 [==============================] - ETA: 0s - loss: 6073895424.0000 - MSE: 6073895424.000 - 0s 8ms/step - loss: 6073895424.0000 - MSE: 6073895424.0000\n",
      "Epoch 76/100\n",
      "1/1 [==============================] - 0s 8ms/step - loss: 6073894912.0000 - MSE: 6073894912.0000\n",
      "Epoch 77/100\n",
      "1/1 [==============================] - 0s 16ms/step - loss: 6073894400.0000 - MSE: 6073894400.0000\n",
      "Epoch 78/100\n",
      "1/1 [==============================] - 0s 8ms/step - loss: 6073894400.0000 - MSE: 6073894400.0000\n",
      "Epoch 79/100\n",
      "1/1 [==============================] - 0s 16ms/step - loss: 6073894400.0000 - MSE: 6073894400.0000\n",
      "Epoch 80/100\n",
      "1/1 [==============================] - 0s 8ms/step - loss: 6073894400.0000 - MSE: 6073894400.0000\n",
      "Epoch 81/100\n",
      "1/1 [==============================] - 0s 16ms/step - loss: 6073892864.0000 - MSE: 6073892864.0000\n",
      "Epoch 82/100\n",
      "1/1 [==============================] - 0s 8ms/step - loss: 6073892864.0000 - MSE: 6073892864.0000\n",
      "Epoch 83/100\n",
      "1/1 [==============================] - 0s 8ms/step - loss: 6073892864.0000 - MSE: 6073892864.0000\n",
      "Epoch 84/100\n",
      "1/1 [==============================] - 0s 8ms/step - loss: 6073892864.0000 - MSE: 6073892864.0000\n",
      "Epoch 85/100\n",
      "1/1 [==============================] - 0s 8ms/step - loss: 6073892352.0000 - MSE: 6073892352.0000\n",
      "Epoch 86/100\n",
      "1/1 [==============================] - 0s 8ms/step - loss: 6073892352.0000 - MSE: 6073892352.0000\n",
      "Epoch 87/100\n",
      "1/1 [==============================] - 0s 8ms/step - loss: 6073891328.0000 - MSE: 6073891328.0000\n",
      "Epoch 88/100\n",
      "1/1 [==============================] - 0s 0s/step - loss: 6073891328.0000 - MSE: 6073891328.0000\n",
      "Epoch 89/100\n",
      "1/1 [==============================] - 0s 8ms/step - loss: 6073891328.0000 - MSE: 6073891328.0000\n",
      "Epoch 90/100\n",
      "1/1 [==============================] - 0s 8ms/step - loss: 6073890304.0000 - MSE: 6073890304.0000\n",
      "Epoch 91/100\n",
      "1/1 [==============================] - 0s 8ms/step - loss: 6073890304.0000 - MSE: 6073890304.0000\n",
      "Epoch 92/100\n",
      "1/1 [==============================] - 0s 8ms/step - loss: 6073890304.0000 - MSE: 6073890304.0000\n",
      "Epoch 93/100\n",
      "1/1 [==============================] - 0s 8ms/step - loss: 6073890304.0000 - MSE: 6073890304.0000\n",
      "Epoch 94/100\n",
      "1/1 [==============================] - 0s 8ms/step - loss: 6073890304.0000 - MSE: 6073890304.0000\n",
      "Epoch 95/100\n",
      "1/1 [==============================] - 0s 8ms/step - loss: 6073888768.0000 - MSE: 6073888768.0000\n",
      "Epoch 96/100\n",
      "1/1 [==============================] - 0s 8ms/step - loss: 6073888768.0000 - MSE: 6073888768.0000\n",
      "Epoch 97/100\n",
      "1/1 [==============================] - 0s 8ms/step - loss: 6073888768.0000 - MSE: 6073888768.0000\n",
      "Epoch 98/100\n",
      "1/1 [==============================] - 0s 8ms/step - loss: 6073887232.0000 - MSE: 6073887232.0000\n",
      "Epoch 99/100\n",
      "1/1 [==============================] - 0s 8ms/step - loss: 6073887232.0000 - MSE: 6073887232.0000\n",
      "Epoch 100/100\n",
      "1/1 [==============================] - 0s 16ms/step - loss: 6073887232.0000 - MSE: 6073887232.0000\n"
     ]
    },
    {
     "data": {
      "text/plain": [
       "<tensorflow.python.keras.callbacks.History at 0x167a3941a60>"
      ]
     },
     "execution_count": 14,
     "metadata": {},
     "output_type": "execute_result"
    }
   ],
   "source": [
    "ann.fit(xtn,ytn,batch_size = 32,epochs = 100)"
   ]
  },
  {
   "cell_type": "code",
   "execution_count": 15,
   "metadata": {},
   "outputs": [],
   "source": [
    "yp = ann.predict(xts)"
   ]
  },
  {
   "cell_type": "code",
   "execution_count": 16,
   "metadata": {},
   "outputs": [
    {
     "data": {
      "text/plain": [
       "array([[0.13165066],\n",
       "       [0.17322344],\n",
       "       [0.14393353],\n",
       "       [0.1429887 ],\n",
       "       [0.1694441 ],\n",
       "       [0.16566476]], dtype=float32)"
      ]
     },
     "execution_count": 16,
     "metadata": {},
     "output_type": "execute_result"
    }
   ],
   "source": [
    "yp"
   ]
  },
  {
   "cell_type": "code",
   "execution_count": 17,
   "metadata": {},
   "outputs": [
    {
     "data": {
      "text/plain": [
       "array([ 37731., 122391.,  57081.,  63218., 116969., 109431.])"
      ]
     },
     "execution_count": 17,
     "metadata": {},
     "output_type": "execute_result"
    }
   ],
   "source": [
    "yts"
   ]
  },
  {
   "cell_type": "code",
   "execution_count": 18,
   "metadata": {},
   "outputs": [],
   "source": [
    "yp = ann.predict([[5]])"
   ]
  },
  {
   "cell_type": "code",
   "execution_count": 19,
   "metadata": {},
   "outputs": [
    {
     "data": {
      "text/plain": [
       "array([[0.14818528]], dtype=float32)"
      ]
     },
     "execution_count": 19,
     "metadata": {},
     "output_type": "execute_result"
    }
   ],
   "source": [
    "yp"
   ]
  },
  {
   "cell_type": "code",
   "execution_count": 20,
   "metadata": {},
   "outputs": [
    {
     "data": {
      "text/plain": [
       "array([[False]])"
      ]
     },
     "execution_count": 20,
     "metadata": {},
     "output_type": "execute_result"
    }
   ],
   "source": [
    "yp>0.5"
   ]
  },
  {
   "cell_type": "code",
   "execution_count": null,
   "metadata": {},
   "outputs": [],
   "source": []
  }
 ],
 "metadata": {
  "kernelspec": {
   "display_name": "Python 3",
   "language": "python",
   "name": "python3"
  },
  "language_info": {
   "codemirror_mode": {
    "name": "ipython",
    "version": 3
   },
   "file_extension": ".py",
   "mimetype": "text/x-python",
   "name": "python",
   "nbconvert_exporter": "python",
   "pygments_lexer": "ipython3",
   "version": "3.8.3"
  }
 },
 "nbformat": 4,
 "nbformat_minor": 4
}
