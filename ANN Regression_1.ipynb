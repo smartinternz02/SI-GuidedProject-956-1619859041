{
 "cells": [
  {
   "cell_type": "code",
   "execution_count": 1,
   "metadata": {},
   "outputs": [],
   "source": [
    "import numpy as n\n",
    "import pandas as p"
   ]
  },
  {
   "cell_type": "code",
   "execution_count": 2,
   "metadata": {},
   "outputs": [],
   "source": [
    "c = p.read_csv(r\"C:\\Users\\vaish\\Downloads\\50_Startups.csv\")"
   ]
  },
  {
   "cell_type": "code",
   "execution_count": 3,
   "metadata": {},
   "outputs": [
    {
     "data": {
      "text/html": [
       "<div>\n",
       "<style scoped>\n",
       "    .dataframe tbody tr th:only-of-type {\n",
       "        vertical-align: middle;\n",
       "    }\n",
       "\n",
       "    .dataframe tbody tr th {\n",
       "        vertical-align: top;\n",
       "    }\n",
       "\n",
       "    .dataframe thead th {\n",
       "        text-align: right;\n",
       "    }\n",
       "</style>\n",
       "<table border=\"1\" class=\"dataframe\">\n",
       "  <thead>\n",
       "    <tr style=\"text-align: right;\">\n",
       "      <th></th>\n",
       "      <th>R&amp;D Spend</th>\n",
       "      <th>Administration</th>\n",
       "      <th>Marketing Spend</th>\n",
       "      <th>State</th>\n",
       "      <th>Profit</th>\n",
       "    </tr>\n",
       "  </thead>\n",
       "  <tbody>\n",
       "    <tr>\n",
       "      <th>0</th>\n",
       "      <td>165349.20</td>\n",
       "      <td>136897.80</td>\n",
       "      <td>471784.10</td>\n",
       "      <td>New York</td>\n",
       "      <td>192261.83</td>\n",
       "    </tr>\n",
       "    <tr>\n",
       "      <th>1</th>\n",
       "      <td>162597.70</td>\n",
       "      <td>151377.59</td>\n",
       "      <td>443898.53</td>\n",
       "      <td>California</td>\n",
       "      <td>191792.06</td>\n",
       "    </tr>\n",
       "    <tr>\n",
       "      <th>2</th>\n",
       "      <td>153441.51</td>\n",
       "      <td>101145.55</td>\n",
       "      <td>407934.54</td>\n",
       "      <td>Florida</td>\n",
       "      <td>191050.39</td>\n",
       "    </tr>\n",
       "    <tr>\n",
       "      <th>3</th>\n",
       "      <td>144372.41</td>\n",
       "      <td>118671.85</td>\n",
       "      <td>383199.62</td>\n",
       "      <td>New York</td>\n",
       "      <td>182901.99</td>\n",
       "    </tr>\n",
       "    <tr>\n",
       "      <th>4</th>\n",
       "      <td>142107.34</td>\n",
       "      <td>91391.77</td>\n",
       "      <td>366168.42</td>\n",
       "      <td>Florida</td>\n",
       "      <td>166187.94</td>\n",
       "    </tr>\n",
       "  </tbody>\n",
       "</table>\n",
       "</div>"
      ],
      "text/plain": [
       "   R&D Spend  Administration  Marketing Spend       State     Profit\n",
       "0  165349.20       136897.80        471784.10    New York  192261.83\n",
       "1  162597.70       151377.59        443898.53  California  191792.06\n",
       "2  153441.51       101145.55        407934.54     Florida  191050.39\n",
       "3  144372.41       118671.85        383199.62    New York  182901.99\n",
       "4  142107.34        91391.77        366168.42     Florida  166187.94"
      ]
     },
     "execution_count": 3,
     "metadata": {},
     "output_type": "execute_result"
    }
   ],
   "source": [
    "c.head()"
   ]
  },
  {
   "cell_type": "code",
   "execution_count": 4,
   "metadata": {},
   "outputs": [
    {
     "data": {
      "text/plain": [
       "R&D Spend          False\n",
       "Administration      True\n",
       "Marketing Spend     True\n",
       "State              False\n",
       "Profit             False\n",
       "dtype: bool"
      ]
     },
     "execution_count": 4,
     "metadata": {},
     "output_type": "execute_result"
    }
   ],
   "source": [
    "c.isnull().any()"
   ]
  },
  {
   "cell_type": "code",
   "execution_count": 5,
   "metadata": {},
   "outputs": [],
   "source": [
    "c[\"Administration\"].fillna(c[\"Administration\"].mean(),inplace=True)\n",
    "c[\"Marketing Spend\"].fillna(c[\"Marketing Spend\"].mean(),inplace=True)"
   ]
  },
  {
   "cell_type": "code",
   "execution_count": 6,
   "metadata": {},
   "outputs": [
    {
     "data": {
      "text/plain": [
       "R&D Spend          False\n",
       "Administration     False\n",
       "Marketing Spend    False\n",
       "State              False\n",
       "Profit             False\n",
       "dtype: bool"
      ]
     },
     "execution_count": 6,
     "metadata": {},
     "output_type": "execute_result"
    }
   ],
   "source": [
    "c.isnull().any()"
   ]
  },
  {
   "cell_type": "code",
   "execution_count": 7,
   "metadata": {},
   "outputs": [],
   "source": [
    "x = c.iloc[:,0:4].values\n",
    "y = c.iloc[:,4].values"
   ]
  },
  {
   "cell_type": "code",
   "execution_count": 8,
   "metadata": {},
   "outputs": [
    {
     "data": {
      "text/plain": [
       "(50, 4)"
      ]
     },
     "execution_count": 8,
     "metadata": {},
     "output_type": "execute_result"
    }
   ],
   "source": [
    "x.shape"
   ]
  },
  {
   "cell_type": "code",
   "execution_count": 9,
   "metadata": {},
   "outputs": [],
   "source": [
    "from sklearn.preprocessing import OneHotEncoder\n",
    "from sklearn.compose import ColumnTransformer\n",
    "ct = ColumnTransformer([(\"oh\",OneHotEncoder(),[3])],remainder = \"passthrough\")\n",
    "x = ct.fit_transform(x)"
   ]
  },
  {
   "cell_type": "code",
   "execution_count": 10,
   "metadata": {},
   "outputs": [
    {
     "data": {
      "text/plain": [
       "array([[0.0, 0.0, 1.0, 165349.2, 136897.8, 471784.1],\n",
       "       [1.0, 0.0, 0.0, 162597.7, 151377.59, 443898.53],\n",
       "       [0.0, 1.0, 0.0, 153441.51, 101145.55, 407934.54],\n",
       "       [0.0, 0.0, 1.0, 144372.41, 118671.85, 383199.62],\n",
       "       [0.0, 1.0, 0.0, 142107.34, 91391.77, 366168.42],\n",
       "       [0.0, 0.0, 1.0, 131876.9, 99814.71, 362861.36],\n",
       "       [1.0, 0.0, 0.0, 134615.46, 147198.87, 212725.26673469393],\n",
       "       [0.0, 1.0, 0.0, 130298.13, 145530.06, 323876.68],\n",
       "       [0.0, 0.0, 1.0, 120542.52, 148718.95, 311613.29],\n",
       "       [1.0, 0.0, 0.0, 123334.88, 108679.17, 304981.62],\n",
       "       [0.0, 1.0, 0.0, 101913.08, 121564.03816326526, 229160.95],\n",
       "       [1.0, 0.0, 0.0, 100671.96, 91790.61, 249744.55],\n",
       "       [0.0, 1.0, 0.0, 93863.75, 127320.38, 249839.44],\n",
       "       [1.0, 0.0, 0.0, 91992.39, 135495.07, 252664.93],\n",
       "       [0.0, 1.0, 0.0, 119943.24, 156547.42, 256512.92],\n",
       "       [0.0, 0.0, 1.0, 114523.61, 122616.84, 261776.23],\n",
       "       [1.0, 0.0, 0.0, 78013.11, 121597.55, 264346.06],\n",
       "       [0.0, 0.0, 1.0, 94657.16, 145077.58, 282574.31],\n",
       "       [0.0, 1.0, 0.0, 91749.16, 114175.79, 294919.57],\n",
       "       [0.0, 0.0, 1.0, 86419.7, 153514.11, 0.0],\n",
       "       [1.0, 0.0, 0.0, 76253.86, 113867.3, 298664.47],\n",
       "       [0.0, 0.0, 1.0, 78389.47, 153773.43, 299737.29],\n",
       "       [0.0, 1.0, 0.0, 73994.56, 122782.75, 303319.26],\n",
       "       [0.0, 1.0, 0.0, 67532.53, 105751.03, 304768.73],\n",
       "       [0.0, 0.0, 1.0, 77044.01, 99281.34, 140574.81],\n",
       "       [1.0, 0.0, 0.0, 64664.71, 139553.16, 137962.62],\n",
       "       [0.0, 1.0, 0.0, 75328.87, 144135.98, 134050.07],\n",
       "       [0.0, 0.0, 1.0, 72107.6, 127864.55, 353183.81],\n",
       "       [0.0, 1.0, 0.0, 66051.52, 182645.56, 118148.2],\n",
       "       [0.0, 0.0, 1.0, 65605.48, 153032.06, 107138.38],\n",
       "       [0.0, 1.0, 0.0, 61994.48, 115641.28, 91131.24],\n",
       "       [0.0, 0.0, 1.0, 61136.38, 152701.92, 88218.23],\n",
       "       [1.0, 0.0, 0.0, 63408.86, 129219.61, 46085.25],\n",
       "       [0.0, 1.0, 0.0, 55493.95, 103057.49, 214634.81],\n",
       "       [1.0, 0.0, 0.0, 46426.07, 157693.92, 210797.67],\n",
       "       [0.0, 0.0, 1.0, 46014.02, 85047.44, 205517.64],\n",
       "       [0.0, 1.0, 0.0, 28663.76, 127056.21, 201126.82],\n",
       "       [1.0, 0.0, 0.0, 44069.95, 51283.14, 197029.42],\n",
       "       [0.0, 0.0, 1.0, 20229.59, 65947.93, 185265.1],\n",
       "       [1.0, 0.0, 0.0, 38558.51, 82982.09, 174999.3],\n",
       "       [1.0, 0.0, 0.0, 28754.33, 118546.05, 172795.67],\n",
       "       [0.0, 1.0, 0.0, 27892.92, 84710.77, 164470.71],\n",
       "       [1.0, 0.0, 0.0, 23640.93, 96189.63, 148001.11],\n",
       "       [0.0, 0.0, 1.0, 15505.73, 127382.3, 35534.17],\n",
       "       [1.0, 0.0, 0.0, 22177.74, 154806.14, 28334.72],\n",
       "       [0.0, 0.0, 1.0, 1000.23, 124153.04, 1903.93],\n",
       "       [0.0, 1.0, 0.0, 1315.46, 115816.21, 297114.46],\n",
       "       [1.0, 0.0, 0.0, 0.0, 135426.92, 0.0],\n",
       "       [0.0, 0.0, 1.0, 542.05, 51743.15, 0.0],\n",
       "       [1.0, 0.0, 0.0, 0.0, 116983.8, 45173.06]], dtype=object)"
      ]
     },
     "execution_count": 10,
     "metadata": {},
     "output_type": "execute_result"
    }
   ],
   "source": [
    "x"
   ]
  },
  {
   "cell_type": "code",
   "execution_count": 11,
   "metadata": {},
   "outputs": [],
   "source": [
    "from sklearn.model_selection import train_test_split\n",
    "xtn,xts,ytn,yts = train_test_split(x,y,test_size = 0.2,random_state=0)"
   ]
  },
  {
   "cell_type": "code",
   "execution_count": 12,
   "metadata": {},
   "outputs": [],
   "source": [
    "from sklearn.preprocessing import StandardScaler\n",
    "sc = StandardScaler()\n",
    "xtn = sc.fit_transform(xtn)\n",
    "xts = sc.fit_transform(xts)"
   ]
  },
  {
   "cell_type": "code",
   "execution_count": 13,
   "metadata": {},
   "outputs": [
    {
     "data": {
      "text/plain": [
       "array([[-0.81649658,  1.73205081, -0.73379939, -0.35006454, -0.78547109,\n",
       "         0.08437197],\n",
       "       [-0.81649658, -0.57735027,  1.36277029, -0.55530319, -1.48117426,\n",
       "         0.010183  ],\n",
       "       [-0.81649658,  1.73205081, -0.73379939,  0.07935762,  0.80133381,\n",
       "        -0.57136866],\n",
       "       [ 1.22474487, -0.57735027, -0.73379939, -0.54638238,  1.32505817,\n",
       "         0.05314808],\n",
       "       [-0.81649658,  1.73205081, -0.73379939,  0.43485371, -0.35598663,\n",
       "         0.73767158],\n",
       "       [-0.81649658,  1.73205081, -0.73379939,  1.26943143,  0.85518519,\n",
       "         0.9733037 ],\n",
       "       [-0.81649658,  1.73205081, -0.73379939,  1.04525007,  1.28077047,\n",
       "         0.42514589],\n",
       "       [-0.81649658, -0.57735027,  1.36277029, -1.529843  ,  0.02942065,\n",
       "        -1.64667886],\n",
       "       [-0.81649658, -0.57735027,  1.36277029, -1.53976251, -2.76767264,\n",
       "        -1.66217167],\n",
       "       [-0.81649658, -0.57735027,  1.36277029, -0.13115188,  1.14497701,\n",
       "        -0.79035663],\n",
       "       [-0.81649658, -0.57735027,  1.36277029,  0.92791613, -0.02992062,\n",
       "         0.46797492],\n",
       "       [-0.81649658,  1.73205081, -0.73379939, -0.20932933, -0.2993768 ,\n",
       "        -0.92061122],\n",
       "       [ 1.22474487, -0.57735027, -0.73379939, -0.17870828,  0.2251352 ,\n",
       "        -1.28716307],\n",
       "       [ 1.22474487, -0.57735027, -0.73379939,  0.1374709 , -0.06929437,\n",
       "         0.48888635],\n",
       "       [ 1.22474487, -0.57735027, -0.73379939, -1.03967624, -1.05076697,\n",
       "        -0.45784514],\n",
       "       [ 1.22474487, -0.57735027, -0.73379939,  0.09938348, -0.36790317,\n",
       "         0.76814488],\n",
       "       [-0.81649658, -0.57735027,  1.36277029, -1.21580174,  0.15416247,\n",
       "        -1.37302017],\n",
       "       [-0.81649658, -0.57735027,  1.36277029,  1.05822437,  0.97836757,\n",
       "         0.87351306],\n",
       "       [ 1.22474487, -0.57735027, -0.73379939,  0.4401196 ,  0.46754749,\n",
       "         0.39383372],\n",
       "       [ 1.22474487, -0.57735027, -0.73379939, -0.15151937,  0.62430586,\n",
       "        -0.53953114],\n",
       "       [-0.81649658, -0.57735027,  1.36277029,  1.30361149, -0.91073517,\n",
       "         1.29053298],\n",
       "       [-0.81649658, -0.57735027,  1.36277029,  0.49781135,  0.83770651,\n",
       "         0.63721473],\n",
       "       [ 1.22474487, -0.57735027, -0.73379939, -0.92897212, -0.18716957,\n",
       "        -0.25608485],\n",
       "       [ 1.22474487, -0.57735027, -0.73379939, -1.55149779, -0.24751712,\n",
       "        -1.29458582],\n",
       "       [ 1.22474487, -0.57735027, -0.73379939,  1.96871085,  1.08106713,\n",
       "         1.94995515],\n",
       "       [-0.81649658,  1.73205081, -0.73379939,  0.48063418,  0.15177059,\n",
       "         0.37084192],\n",
       "       [ 1.22474487, -0.57735027, -0.73379939, -0.59739193, -2.78544219,\n",
       "        -0.05888803],\n",
       "       [-0.81649658, -0.57735027,  1.36277029,  0.11649007, -0.93133851,\n",
       "        -0.51827502],\n",
       "       [ 1.22474487, -0.57735027, -0.73379939,  1.36290079,  0.91964899,\n",
       "         0.06883348],\n",
       "       [-0.81649658,  1.73205081, -0.73379939, -0.08943162, -0.68142339,\n",
       "         0.81781695],\n",
       "       [-0.81649658,  1.73205081, -0.73379939, -0.93093295,  0.14156607,\n",
       "        -0.02554633],\n",
       "       [-0.81649658, -0.57735027,  1.36277029,  0.14561902,  1.1736151 ,\n",
       "         0.77687471],\n",
       "       [-0.81649658, -0.57735027,  1.36277029,  0.31947194,  1.16359793,\n",
       "        -1.66217167],\n",
       "       [ 1.22474487, -0.57735027, -0.73379939,  1.11867842, -0.56831342,\n",
       "         0.8195493 ],\n",
       "       [ 1.22474487, -0.57735027, -0.73379939, -0.71671353, -1.56095586,\n",
       "        -0.23815329],\n",
       "       [-0.81649658,  1.73205081, -0.73379939, -1.52301833, -0.29261949,\n",
       "         0.75553201],\n",
       "       [-0.81649658, -0.57735027,  1.36277029,  1.57413686, -0.18231009,\n",
       "         1.4560311 ],\n",
       "       [-0.81649658, -0.57735027,  1.36277029,  2.02828029,  0.52173299,\n",
       "         2.17686786],\n",
       "       [ 1.22474487, -0.57735027, -0.73379939, -1.55149779,  0.46491495,\n",
       "        -1.66217167],\n",
       "       [ 1.22474487, -0.57735027, -0.73379939, -1.07135402,  1.21350725,\n",
       "        -1.43160411]])"
      ]
     },
     "execution_count": 13,
     "metadata": {},
     "output_type": "execute_result"
    }
   ],
   "source": [
    "xtn"
   ]
  },
  {
   "cell_type": "code",
   "execution_count": 14,
   "metadata": {},
   "outputs": [],
   "source": [
    "from tensorflow.keras.models import Sequential\n",
    "from tensorflow.keras.layers import Dense"
   ]
  },
  {
   "cell_type": "code",
   "execution_count": 15,
   "metadata": {},
   "outputs": [],
   "source": [
    "ann = Sequential()"
   ]
  },
  {
   "cell_type": "code",
   "execution_count": 16,
   "metadata": {},
   "outputs": [],
   "source": [
    "ann.add(Dense(6,kernel_initializer = 'random_uniform',activation = 'relu'))"
   ]
  },
  {
   "cell_type": "code",
   "execution_count": 17,
   "metadata": {},
   "outputs": [],
   "source": [
    "ann.add(Dense(12,kernel_initializer = 'random_uniform',activation = 'relu'))"
   ]
  },
  {
   "cell_type": "code",
   "execution_count": 18,
   "metadata": {},
   "outputs": [],
   "source": [
    "ann.add(Dense(1,kernel_initializer = 'random_uniform',activation = 'relu'))"
   ]
  },
  {
   "cell_type": "code",
   "execution_count": 19,
   "metadata": {},
   "outputs": [],
   "source": [
    "ann.compile('adam','mean_squared_error',metrics = ['MSE'])"
   ]
  },
  {
   "cell_type": "code",
   "execution_count": 20,
   "metadata": {},
   "outputs": [
    {
     "name": "stdout",
     "output_type": "stream",
     "text": [
      "Epoch 1/20\n",
      "4/4 [==============================] - 1s 3ms/step - loss: 14483890995.2000 - MSE: 14483890995.2000\n",
      "Epoch 2/20\n",
      "4/4 [==============================] - 0s 5ms/step - loss: 13926751436.8000 - MSE: 13926751436.8000\n",
      "Epoch 3/20\n",
      "4/4 [==============================] - 0s 5ms/step - loss: 13011980902.4000 - MSE: 13011980902.4000\n",
      "Epoch 4/20\n",
      "4/4 [==============================] - 0s 5ms/step - loss: 13461629747.2000 - MSE: 13461629747.2000\n",
      "Epoch 5/20\n",
      "4/4 [==============================] - 0s 3ms/step - loss: 13861215436.8000 - MSE: 13861215436.8000\n",
      "Epoch 6/20\n",
      "4/4 [==============================] - 0s 3ms/step - loss: 14124324249.6000 - MSE: 14124324249.6000\n",
      "Epoch 7/20\n",
      "4/4 [==============================] - 0s 5ms/step - loss: 12899800473.6000 - MSE: 12899800473.6000\n",
      "Epoch 8/20\n",
      "4/4 [==============================] - 0s 3ms/step - loss: 13159948902.4000 - MSE: 13159948902.4000\n",
      "Epoch 9/20\n",
      "4/4 [==============================] - 0s 3ms/step - loss: 13412893081.6000 - MSE: 13412893081.6000\n",
      "Epoch 10/20\n",
      "4/4 [==============================] - 0s 3ms/step - loss: 13273734348.8000 - MSE: 13273734348.8000\n",
      "Epoch 11/20\n",
      "4/4 [==============================] - 0s 5ms/step - loss: 13250171699.2000 - MSE: 13250171699.2000\n",
      "Epoch 12/20\n",
      "4/4 [==============================] - 0s 5ms/step - loss: 12930350899.2000 - MSE: 12930350899.2000\n",
      "Epoch 13/20\n",
      "4/4 [==============================] - 0s 5ms/step - loss: 14094889779.2000 - MSE: 14094889779.2000\n",
      "Epoch 14/20\n",
      "4/4 [==============================] - 0s 3ms/step - loss: 13448706867.2000 - MSE: 13448706867.2000\n",
      "Epoch 15/20\n",
      "4/4 [==============================] - 0s 3ms/step - loss: 13422317363.2000 - MSE: 13422317363.2000\n",
      "Epoch 16/20\n",
      "4/4 [==============================] - 0s 3ms/step - loss: 13619886284.8000 - MSE: 13619886284.8000\n",
      "Epoch 17/20\n",
      "4/4 [==============================] - 0s 3ms/step - loss: 12787726745.6000 - MSE: 12787727360.0000\n",
      "Epoch 18/20\n",
      "4/4 [==============================] - 0s 5ms/step - loss: 14817114931.2000 - MSE: 14817114931.2000\n",
      "Epoch 19/20\n",
      "4/4 [==============================] - 0s 3ms/step - loss: 13923613900.8000 - MSE: 13923613900.8000\n",
      "Epoch 20/20\n",
      "4/4 [==============================] - 0s 3ms/step - loss: 13600855654.4000 - MSE: 13600855654.4000\n"
     ]
    },
    {
     "data": {
      "text/plain": [
       "<tensorflow.python.keras.callbacks.History at 0x26ed05a41c0>"
      ]
     },
     "execution_count": 20,
     "metadata": {},
     "output_type": "execute_result"
    }
   ],
   "source": [
    "ann.fit(xtn,ytn,batch_size = 12,epochs = 20)"
   ]
  },
  {
   "cell_type": "code",
   "execution_count": 21,
   "metadata": {},
   "outputs": [],
   "source": [
    "yp = ann.predict(xts)"
   ]
  },
  {
   "cell_type": "code",
   "execution_count": 22,
   "metadata": {},
   "outputs": [
    {
     "data": {
      "text/plain": [
       "array([[0.18186119],\n",
       "       [0.240859  ],\n",
       "       [0.1746442 ],\n",
       "       [0.19831505],\n",
       "       [0.1878419 ],\n",
       "       [0.25430754],\n",
       "       [0.22141773],\n",
       "       [0.23009664],\n",
       "       [0.17565024],\n",
       "       [0.17637864]], dtype=float32)"
      ]
     },
     "execution_count": 22,
     "metadata": {},
     "output_type": "execute_result"
    }
   ],
   "source": [
    "yp"
   ]
  },
  {
   "cell_type": "code",
   "execution_count": 23,
   "metadata": {},
   "outputs": [
    {
     "data": {
      "text/plain": [
       "array([103282.38, 144259.4 , 146121.95,  77798.83, 191050.39, 105008.31,\n",
       "        81229.06,  97483.56, 110352.25, 166187.94])"
      ]
     },
     "execution_count": 23,
     "metadata": {},
     "output_type": "execute_result"
    }
   ],
   "source": [
    "yts"
   ]
  },
  {
   "cell_type": "code",
   "execution_count": 24,
   "metadata": {},
   "outputs": [],
   "source": [
    "yp = ann.predict(sc.transform(ct.transform([[802387.2,891347.3,397112.1,'New York']])))"
   ]
  },
  {
   "cell_type": "code",
   "execution_count": 25,
   "metadata": {},
   "outputs": [
    {
     "data": {
      "text/plain": [
       "array([[0.8023628]], dtype=float32)"
      ]
     },
     "execution_count": 25,
     "metadata": {},
     "output_type": "execute_result"
    }
   ],
   "source": [
    "yp"
   ]
  },
  {
   "cell_type": "code",
   "execution_count": 26,
   "metadata": {},
   "outputs": [
    {
     "data": {
      "text/plain": [
       "array([[ True]])"
      ]
     },
     "execution_count": 26,
     "metadata": {},
     "output_type": "execute_result"
    }
   ],
   "source": [
    "yp>0.5"
   ]
  },
  {
   "cell_type": "code",
   "execution_count": null,
   "metadata": {},
   "outputs": [],
   "source": []
  }
 ],
 "metadata": {
  "kernelspec": {
   "display_name": "Python 3",
   "language": "python",
   "name": "python3"
  },
  "language_info": {
   "codemirror_mode": {
    "name": "ipython",
    "version": 3
   },
   "file_extension": ".py",
   "mimetype": "text/x-python",
   "name": "python",
   "nbconvert_exporter": "python",
   "pygments_lexer": "ipython3",
   "version": "3.8.3"
  }
 },
 "nbformat": 4,
 "nbformat_minor": 4
}
